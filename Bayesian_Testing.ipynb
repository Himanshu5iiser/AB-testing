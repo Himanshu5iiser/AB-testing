{
  "cells": [
    {
      "cell_type": "code",
      "execution_count": null,
      "metadata": {
        "id": "VXxsMc-KeD0J"
      },
      "outputs": [],
      "source": [
        "import pandas as pd\n",
        "import numpy as np\n",
        "import datetime\n",
        "from scipy.stats import chi2_contingency, beta\n",
        "from IPython.display import Image"
      ]
    },
    {
      "cell_type": "markdown",
      "metadata": {
        "id": "fHK8jBmAeD0O"
      },
      "source": [
        "### 1. Experiment Definition\n",
        "\n",
        "We developed a new webpage and want to test it's effects on purchase conversion. As such we split our users evenly into 2 groups:\n",
        "1. **Control**: They get the old webpage\n",
        "2. **Treatment**: They get the new webpage\n",
        "\n",
        "Metric we want to track:\n",
        "$$\n",
        "\\text{purchase conversion} = \\frac{\\text{# Converted Users}}{\\text{# Exposed Users}}\n",
        "$$\n",
        "\n",
        "We have 3 weeks of logged exposure/conversion data. Let's define these terms:\n",
        "1. **Exposure**: A user is bucketed as control or treatment and sees their corresponding page for the first time in the experiment duration\n",
        "2. **Conversion**: An exposed user makes a purchase within 7 days of being first exposed\n",
        "\n",
        "Questions you should ask when setting up a test:\n",
        "- How do you think the experiment will fair?\n",
        "- Do we have actionable next steps laid out?"
      ]
    },
    {
      "cell_type": "markdown",
      "metadata": {
        "id": "MXUBERKpeD0S"
      },
      "source": [
        "### 2. Data Collection"
      ]
    },
    {
      "cell_type": "markdown",
      "metadata": {
        "id": "lfy7yPE9eD0T"
      },
      "source": [
        "A/B testing data: https://www.kaggle.com/saraabdelaal/abtestdata"
      ]
    },
    {
      "cell_type": "code",
      "execution_count": null,
      "metadata": {
        "id": "Ec0OqCy9eD0T"
      },
      "outputs": [],
      "source": [
        "df = pd.read_csv('csv/ab_data.csv')"
      ]
    },
    {
      "cell_type": "code",
      "execution_count": null,
      "metadata": {
        "id": "zLjCmu5beD0U",
        "outputId": "9fe4cb40-4097-4185-9d7a-6e7d665d3c5c"
      },
      "outputs": [
        {
          "data": {
            "text/html": [
              "<div>\n",
              "<style scoped>\n",
              "    .dataframe tbody tr th:only-of-type {\n",
              "        vertical-align: middle;\n",
              "    }\n",
              "\n",
              "    .dataframe tbody tr th {\n",
              "        vertical-align: top;\n",
              "    }\n",
              "\n",
              "    .dataframe thead th {\n",
              "        text-align: right;\n",
              "    }\n",
              "</style>\n",
              "<table border=\"1\" class=\"dataframe\">\n",
              "  <thead>\n",
              "    <tr style=\"text-align: right;\">\n",
              "      <th></th>\n",
              "      <th>user_id</th>\n",
              "      <th>timestamp</th>\n",
              "      <th>group</th>\n",
              "      <th>landing_page</th>\n",
              "      <th>converted</th>\n",
              "    </tr>\n",
              "  </thead>\n",
              "  <tbody>\n",
              "    <tr>\n",
              "      <th>265342</th>\n",
              "      <td>741320</td>\n",
              "      <td>2017-01-06 09:10:20.880418</td>\n",
              "      <td>treatment</td>\n",
              "      <td>new_page</td>\n",
              "      <td>0</td>\n",
              "    </tr>\n",
              "    <tr>\n",
              "      <th>180296</th>\n",
              "      <td>899025</td>\n",
              "      <td>2017-01-23 16:31:37.030115</td>\n",
              "      <td>control</td>\n",
              "      <td>old_page</td>\n",
              "      <td>0</td>\n",
              "    </tr>\n",
              "  </tbody>\n",
              "</table>\n",
              "</div>"
            ],
            "text/plain": [
              "        user_id                   timestamp      group landing_page  converted\n",
              "265342   741320  2017-01-06 09:10:20.880418  treatment     new_page          0\n",
              "180296   899025  2017-01-23 16:31:37.030115    control     old_page          0"
            ]
          },
          "execution_count": 350,
          "metadata": {},
          "output_type": "execute_result"
        }
      ],
      "source": [
        "df.sample(2)"
      ]
    },
    {
      "cell_type": "markdown",
      "metadata": {
        "id": "2ASqxOWMeD0V"
      },
      "source": [
        "Each row is logged when user is exposed to a webpage.\n",
        "- **timestamp**: time the user is first exposed\n",
        "- **group**: bucket\n",
        "- **landing_page**: Which page are they seeing\n",
        "- **converted**: Initialized to 0. Changes to 1 if the user makes a purchase within 7 days of first exposure"
      ]
    },
    {
      "cell_type": "code",
      "execution_count": null,
      "metadata": {
        "id": "JrOq5YT8eD0V",
        "outputId": "0463066e-fc44-43ea-cbc4-a9de4449482b"
      },
      "outputs": [
        {
          "name": "stdout",
          "output_type": "stream",
          "text": [
            "Number of unique users in experiment: 290584\n",
            "Data collected for 21 days\n",
            "Landing pages to compare: ['old_page', 'new_page']\n",
            "Percentage of users in control: 50%\n"
          ]
        }
      ],
      "source": [
        "start_time = datetime.datetime.strptime(df['timestamp'].min(), '%Y-%m-%d %H:%M:%S.%f')\n",
        "end_time = datetime.datetime.strptime(df['timestamp'].max(), '%Y-%m-%d %H:%M:%S.%f')\n",
        "data_duration = (end_time - start_time).days\n",
        "\n",
        "print(f\"Number of unique users in experiment: {df['user_id'].nunique()}\")\n",
        "print(f\"Data collected for {data_duration} days\")\n",
        "print(f\"Landing pages to compare: {df['landing_page'].unique().tolist()}\")\n",
        "print(f\"Percentage of users in control: {round(df[df['group']=='control'].shape[0] * 100 / df.shape[0])}%\")"
      ]
    },
    {
      "cell_type": "markdown",
      "metadata": {
        "id": "CUgzLD55eD0W"
      },
      "source": [
        "### 3. Data Processing"
      ]
    },
    {
      "cell_type": "markdown",
      "metadata": {
        "id": "AegXuRHSeD0W"
      },
      "source": [
        "But there are some repeated exposures for some users"
      ]
    },
    {
      "cell_type": "code",
      "execution_count": null,
      "metadata": {
        "id": "5TlBEhdheD0X",
        "outputId": "4c7d4ae5-0b0f-4527-8bbc-2f66963e5db1"
      },
      "outputs": [
        {
          "data": {
            "text/html": [
              "<div>\n",
              "<style scoped>\n",
              "    .dataframe tbody tr th:only-of-type {\n",
              "        vertical-align: middle;\n",
              "    }\n",
              "\n",
              "    .dataframe tbody tr th {\n",
              "        vertical-align: top;\n",
              "    }\n",
              "\n",
              "    .dataframe thead th {\n",
              "        text-align: right;\n",
              "    }\n",
              "</style>\n",
              "<table border=\"1\" class=\"dataframe\">\n",
              "  <thead>\n",
              "    <tr style=\"text-align: right;\">\n",
              "      <th></th>\n",
              "      <th>user_id</th>\n",
              "      <th>timestamp</th>\n",
              "      <th>group</th>\n",
              "      <th>landing_page</th>\n",
              "      <th>converted</th>\n",
              "    </tr>\n",
              "  </thead>\n",
              "  <tbody>\n",
              "    <tr>\n",
              "      <th>29073</th>\n",
              "      <td>746755</td>\n",
              "      <td>2017-01-11 01:28:57.083669</td>\n",
              "      <td>control</td>\n",
              "      <td>new_page</td>\n",
              "      <td>1</td>\n",
              "    </tr>\n",
              "    <tr>\n",
              "      <th>105487</th>\n",
              "      <td>722274</td>\n",
              "      <td>2017-01-19 01:46:53.093257</td>\n",
              "      <td>control</td>\n",
              "      <td>old_page</td>\n",
              "      <td>0</td>\n",
              "    </tr>\n",
              "    <tr>\n",
              "      <th>262554</th>\n",
              "      <td>722274</td>\n",
              "      <td>2017-01-09 21:21:23.638444</td>\n",
              "      <td>control</td>\n",
              "      <td>new_page</td>\n",
              "      <td>0</td>\n",
              "    </tr>\n",
              "    <tr>\n",
              "      <th>286566</th>\n",
              "      <td>746755</td>\n",
              "      <td>2017-01-05 03:40:08.457451</td>\n",
              "      <td>control</td>\n",
              "      <td>old_page</td>\n",
              "      <td>0</td>\n",
              "    </tr>\n",
              "  </tbody>\n",
              "</table>\n",
              "</div>"
            ],
            "text/plain": [
              "        user_id                   timestamp    group landing_page  converted\n",
              "29073    746755  2017-01-11 01:28:57.083669  control     new_page          1\n",
              "105487   722274  2017-01-19 01:46:53.093257  control     old_page          0\n",
              "262554   722274  2017-01-09 21:21:23.638444  control     new_page          0\n",
              "286566   746755  2017-01-05 03:40:08.457451  control     old_page          0"
            ]
          },
          "execution_count": 97,
          "metadata": {},
          "output_type": "execute_result"
        }
      ],
      "source": [
        "sample = df[df['user_id'].isin([746755,722274])]\n",
        "sample"
      ]
    },
    {
      "cell_type": "markdown",
      "metadata": {
        "id": "4MNfkdRweD0X"
      },
      "source": [
        "Get First timestamp for each username. In this dataset, it is the timestamp of first conversion, but in reality, make sure to do one of the following:\n",
        "1. Get timestamp of first exposure\n",
        "2. Remove users with multiple buckets"
      ]
    },
    {
      "cell_type": "code",
      "execution_count": null,
      "metadata": {
        "id": "-oQ8JNEReD0Y",
        "outputId": "9172755f-4916-46fb-8738-d97be424a0f1"
      },
      "outputs": [
        {
          "data": {
            "text/html": [
              "<div>\n",
              "<style scoped>\n",
              "    .dataframe tbody tr th:only-of-type {\n",
              "        vertical-align: middle;\n",
              "    }\n",
              "\n",
              "    .dataframe tbody tr th {\n",
              "        vertical-align: top;\n",
              "    }\n",
              "\n",
              "    .dataframe thead th {\n",
              "        text-align: right;\n",
              "    }\n",
              "</style>\n",
              "<table border=\"1\" class=\"dataframe\">\n",
              "  <thead>\n",
              "    <tr style=\"text-align: right;\">\n",
              "      <th></th>\n",
              "      <th>user_id</th>\n",
              "      <th>timestamp</th>\n",
              "      <th>group</th>\n",
              "      <th>landing_page</th>\n",
              "      <th>converted</th>\n",
              "    </tr>\n",
              "  </thead>\n",
              "  <tbody>\n",
              "    <tr>\n",
              "      <th>0</th>\n",
              "      <td>722274</td>\n",
              "      <td>2017-01-09 21:21:23.638444</td>\n",
              "      <td>control</td>\n",
              "      <td>new_page</td>\n",
              "      <td>0</td>\n",
              "    </tr>\n",
              "    <tr>\n",
              "      <th>1</th>\n",
              "      <td>746755</td>\n",
              "      <td>2017-01-05 03:40:08.457451</td>\n",
              "      <td>control</td>\n",
              "      <td>old_page</td>\n",
              "      <td>0</td>\n",
              "    </tr>\n",
              "  </tbody>\n",
              "</table>\n",
              "</div>"
            ],
            "text/plain": [
              "   user_id                   timestamp    group landing_page  converted\n",
              "0   722274  2017-01-09 21:21:23.638444  control     new_page          0\n",
              "1   746755  2017-01-05 03:40:08.457451  control     old_page          0"
            ]
          },
          "execution_count": 96,
          "metadata": {},
          "output_type": "execute_result"
        }
      ],
      "source": [
        "# 1. Get timestamp of first exposure\n",
        "first_conversion = sample.groupby('user_id')['timestamp'].min().to_frame().reset_index()\n",
        "sample = sample.merge(first_conversion, on=['user_id', 'timestamp'])\n",
        "sample"
      ]
    },
    {
      "cell_type": "code",
      "execution_count": null,
      "metadata": {
        "id": "b7SbS-nheD0Z",
        "outputId": "ab5e0bc6-dd39-4f97-d225-3afc4d55e379"
      },
      "outputs": [
        {
          "data": {
            "text/plain": [
              "False    286690\n",
              "True       3894\n",
              "Name: user_id, dtype: int64"
            ]
          },
          "execution_count": 106,
          "metadata": {},
          "output_type": "execute_result"
        }
      ],
      "source": [
        "counter = df['user_id'].value_counts()\n",
        "(counter > 1).value_counts()"
      ]
    },
    {
      "cell_type": "markdown",
      "metadata": {
        "id": "3BtsnJDVeD0Z"
      },
      "source": [
        "3894 (1.34\\%) user_ids have been exposed to the old AND new page. It should be okay to remove them"
      ]
    },
    {
      "cell_type": "code",
      "execution_count": null,
      "metadata": {
        "id": "KzMin3STeD0a"
      },
      "outputs": [],
      "source": [
        "#2. Remove users with multiple buckets\n",
        "valid_users = pd.DataFrame(counter[counter == 1].index, columns=['user_id'])\n",
        "df = df.merge(valid_users, on=['user_id'])"
      ]
    },
    {
      "cell_type": "code",
      "execution_count": null,
      "metadata": {
        "id": "JG3LjCgOeD0a",
        "outputId": "fa02fd2c-23bf-4fc1-ac3b-0a934fe73fd9"
      },
      "outputs": [
        {
          "data": {
            "text/html": [
              "<div>\n",
              "<style scoped>\n",
              "    .dataframe tbody tr th:only-of-type {\n",
              "        vertical-align: middle;\n",
              "    }\n",
              "\n",
              "    .dataframe tbody tr th {\n",
              "        vertical-align: top;\n",
              "    }\n",
              "\n",
              "    .dataframe thead th {\n",
              "        text-align: right;\n",
              "    }\n",
              "</style>\n",
              "<table border=\"1\" class=\"dataframe\">\n",
              "  <thead>\n",
              "    <tr style=\"text-align: right;\">\n",
              "      <th></th>\n",
              "      <th>user_id</th>\n",
              "      <th>timestamp</th>\n",
              "      <th>group</th>\n",
              "      <th>landing_page</th>\n",
              "      <th>converted</th>\n",
              "      <th>week</th>\n",
              "    </tr>\n",
              "  </thead>\n",
              "  <tbody>\n",
              "    <tr>\n",
              "      <th>129391</th>\n",
              "      <td>740710</td>\n",
              "      <td>2017-01-19 22:26:04.950909</td>\n",
              "      <td>control</td>\n",
              "      <td>old_page</td>\n",
              "      <td>0</td>\n",
              "      <td>3</td>\n",
              "    </tr>\n",
              "  </tbody>\n",
              "</table>\n",
              "</div>"
            ],
            "text/plain": [
              "        user_id                   timestamp    group landing_page  converted  \\\n",
              "129391   740710  2017-01-19 22:26:04.950909  control     old_page          0   \n",
              "\n",
              "        week  \n",
              "129391     3  "
            ]
          },
          "execution_count": 373,
          "metadata": {},
          "output_type": "execute_result"
        }
      ],
      "source": [
        "# Add week column to see the data as you would during experiment\n",
        "df['week'] = df['timestamp'].apply(lambda x: datetime.datetime.strptime(x, '%Y-%m-%d %H:%M:%S.%f').isocalendar()[1])\n",
        "df.sample()"
      ]
    },
    {
      "cell_type": "code",
      "execution_count": null,
      "metadata": {
        "id": "-UymWda2eD0a",
        "outputId": "2ee1f9b3-3360-4098-893b-8845ff3df048"
      },
      "outputs": [
        {
          "data": {
            "text/plain": [
              "2    91380\n",
              "3    91056\n",
              "1    83745\n",
              "4    20509\n",
              "Name: week, dtype: int64"
            ]
          },
          "execution_count": 374,
          "metadata": {},
          "output_type": "execute_result"
        }
      ],
      "source": [
        "df['week'].value_counts()"
      ]
    },
    {
      "cell_type": "markdown",
      "metadata": {
        "id": "V8gyjdBIeD0b"
      },
      "source": [
        "### 4. Experiment: Frequentist Approach"
      ]
    },
    {
      "cell_type": "code",
      "execution_count": null,
      "metadata": {
        "id": "-sZjqpuleD0b",
        "outputId": "e0264180-f2d0-4806-b0ac-114234ac450e"
      },
      "outputs": [
        {
          "name": "stdout",
          "output_type": "stream",
          "text": [
            "Treatment Conversion Rate: 11.873%\n",
            "Control Conversion Rate: 12.017%\n",
            "Lift = -0.144%\n"
          ]
        }
      ],
      "source": [
        "# Get Stats\n",
        "NUM_WEEKS = 4 # Vary number to get experiment data at weekly points in time\n",
        "experiment_data = df[df['week'] <= NUM_WEEKS]\n",
        "control = experiment_data[experiment_data['group']=='control']\n",
        "treatment = experiment_data[experiment_data['group']=='treatment']\n",
        "\n",
        "control_conversion_perc = round(control['converted'].sum() * 100/ control['converted'].count(), 3)\n",
        "treatment_conversion_perc = round(treatment['converted'].sum() * 100/ treatment['converted'].count(), 3)\n",
        "lift = round(treatment_conversion_perc - control_conversion_perc, 3)\n",
        "\n",
        "print(f\"Treatment Conversion Rate: {treatment_conversion_perc}%\")\n",
        "print(f\"Control Conversion Rate: {control_conversion_perc}%\")\n",
        "print(f\"Lift = {lift}%\")"
      ]
    },
    {
      "cell_type": "markdown",
      "metadata": {
        "id": "jvkLHwHZeD0b"
      },
      "source": [
        "#### Chi-Squared Test\n",
        "\n",
        "$$\n",
        "H_0: \\text{Control & Treatment have same purchase conversion} \\\\\n",
        "H_A: \\text{Control & Treatment have different purchase conversion}\n",
        "$$"
      ]
    },
    {
      "cell_type": "code",
      "execution_count": null,
      "metadata": {
        "id": "z7XsLeMUeD0c"
      },
      "outputs": [],
      "source": [
        "# Create Contingency Table for Chi Squared Test\n",
        "control_converted = control['converted'].sum()\n",
        "treatment_converted = treatment['converted'].sum()\n",
        "control_non_converted = control['converted'].count() - control_converted\n",
        "treatment_non_converted = treatment['converted'].count() - treatment_converted\n",
        "contingency_table = np.array([[control_converted, control_non_converted],\n",
        "                              [treatment_converted, treatment_non_converted]])"
      ]
    },
    {
      "cell_type": "code",
      "execution_count": null,
      "metadata": {
        "id": "TwawIXFAeD0c",
        "outputId": "43790bf7-cfdd-47ca-8b26-7f6d23c0f3fd"
      },
      "outputs": [
        {
          "data": {
            "text/plain": [
              "array([[ 15944, 117010],\n",
              "       [ 15799, 117428]])"
            ]
          },
          "execution_count": 228,
          "metadata": {},
          "output_type": "execute_result"
        }
      ],
      "source": [
        "contingency_table"
      ]
    },
    {
      "cell_type": "code",
      "execution_count": null,
      "metadata": {
        "id": "Xi-Eour5eD0c"
      },
      "outputs": [],
      "source": [
        "chi, p_value, _, _ = chi2_contingency(contingency_table, correction=False)"
      ]
    },
    {
      "cell_type": "code",
      "execution_count": null,
      "metadata": {
        "id": "RPTvuqI8eD0c",
        "outputId": "7fbc9098-2c9b-4010-98a9-4aae5f3b0850"
      },
      "outputs": [
        {
          "data": {
            "text/plain": [
              "(1.1276469852100297, 0.28827779822703054)"
            ]
          },
          "execution_count": 241,
          "metadata": {},
          "output_type": "execute_result"
        }
      ],
      "source": [
        "chi, p_value"
      ]
    },
    {
      "cell_type": "markdown",
      "metadata": {
        "id": "UDjuH9HSeD0c"
      },
      "source": [
        "Since the p_value > 0.05, we cannot reject null hypothesis. Hence, we cannot conclude if there exists a relationship between the control and treatment groups."
      ]
    },
    {
      "cell_type": "code",
      "execution_count": null,
      "metadata": {
        "id": "esS3PTTIeD0d",
        "outputId": "4560feb2-ab0d-4f6c-b4df-2fc9fa9b3c71"
      },
      "outputs": [
        {
          "name": "stdout",
          "output_type": "stream",
          "text": [
            "28.83% probability that a more extreme chi quare than 1.128 would have occured by chance\n"
          ]
        }
      ],
      "source": [
        "print(f\"{round(p_value * 100, 2)}% probability that a more extreme chi square than {round(chi, 3)} would have occured by chance\")"
      ]
    },
    {
      "cell_type": "markdown",
      "metadata": {
        "id": "Xga9R4B9eD0d"
      },
      "source": [
        "But this is tough to interpret. We would to say something about the actual maginitude of lift. Something like this:"
      ]
    },
    {
      "cell_type": "code",
      "execution_count": null,
      "metadata": {
        "id": "YU6r3QdieD0d",
        "outputId": "17e9b01e-ead8-43b1-f968-361e8d8bf217"
      },
      "outputs": [
        {
          "name": "stdout",
          "output_type": "stream",
          "text": [
            "(We CANNOT say this) We are 28.83% confident that our lift = -0.133%\n"
          ]
        }
      ],
      "source": [
        "print(f\"(We CANNOT say this) We are {round(p_value * 100, 2)}% confident that our lift = {lift}%\")"
      ]
    },
    {
      "cell_type": "markdown",
      "metadata": {
        "id": "pv0SijfAeD0e"
      },
      "source": [
        "### 5. Experiment: Bayesian Approach"
      ]
    },
    {
      "cell_type": "markdown",
      "metadata": {
        "id": "s5VejppSeD0e"
      },
      "source": [
        "We want to input the _prior distribution_ and have the experiment update the parameters to create _posterier distributions_. Since these prior & posterior distributions will be used to sample Conversion Rate, we model them after beta distribtion.\n",
        "\n",
        "Let's create the prior beta distribtion from the first weeks of conversion data"
      ]
    },
    {
      "cell_type": "code",
      "execution_count": null,
      "metadata": {
        "id": "YLaNOyuTeD0e"
      },
      "outputs": [],
      "source": [
        "prior = df[(df['week'] == 1) & (df['group']=='control')]"
      ]
    },
    {
      "cell_type": "code",
      "execution_count": null,
      "metadata": {
        "id": "rAHRA0W2eD0f"
      },
      "outputs": [],
      "source": [
        "prior_means = []\n",
        "for i in range(10000):\n",
        "    prior_means.append(prior.sample(1000)['converted'].mean())"
      ]
    },
    {
      "cell_type": "code",
      "execution_count": null,
      "metadata": {
        "id": "x39gcGuyeD0f",
        "outputId": "f866fb1f-850e-4813-93d4-32e0e67b2b3d"
      },
      "outputs": [
        {
          "data": {
            "text/plain": [
              "[0.106, 0.105, 0.137, 0.116, 0.123, 0.12, 0.098, 0.129, 0.122, 0.124]"
            ]
          },
          "execution_count": 256,
          "metadata": {},
          "output_type": "execute_result"
        }
      ],
      "source": [
        "prior_means[:10]"
      ]
    },
    {
      "cell_type": "code",
      "execution_count": null,
      "metadata": {
        "id": "NsPy_DAPeD0f"
      },
      "outputs": [],
      "source": [
        "# Model Beta Distribtion from sample means\n",
        "prior_alpha, prior_beta, _, _ = beta.fit(prior_means, floc=0, fscale=1)"
      ]
    },
    {
      "cell_type": "code",
      "execution_count": null,
      "metadata": {
        "id": "6iZPWvCgeD0g",
        "outputId": "b3ce148e-f984-46df-88f2-bfa58512a89d"
      },
      "outputs": [
        {
          "name": "stdout",
          "output_type": "stream",
          "text": [
            "Treatment Conversion Rate: 11.909%\n",
            "Control Conversion Rate: 12.058%\n",
            "Lift = -0.012%\n"
          ]
        }
      ],
      "source": [
        "# Get Stats\n",
        "NUM_WEEKS = 4 # Vary number to get experiment data at weekly points in time\n",
        "experiment_data = df[(df['week'] > 1) & (df['week'] <= NUM_WEEKS)]\n",
        "control = experiment_data[experiment_data['group']=='control']\n",
        "treatment = experiment_data[experiment_data['group']=='treatment']\n",
        "\n",
        "control_conversion_perc = round(control['converted'].sum() * 100/ control['converted'].count(), 3)\n",
        "treatment_conversion_perc = round(treatment['converted'].sum() * 100/ treatment['converted'].count(), 3)\n",
        "lift = round((treatment_conversion_perc - control_conversion_perc) / control_conversion_perc , 3)\n",
        "\n",
        "print(f\"Treatment Conversion Rate: {treatment_conversion_perc}%\")\n",
        "print(f\"Control Conversion Rate: {control_conversion_perc}%\")\n",
        "print(f\"Lift = {lift}%\")"
      ]
    },
    {
      "cell_type": "code",
      "execution_count": null,
      "metadata": {
        "id": "iQZFV48GeD0g",
        "outputId": "ac4b06d3-bf0b-46c5-803c-33de82f74359"
      },
      "outputs": [
        {
          "name": "stdout",
          "output_type": "stream",
          "text": [
            "Probability that treatment > control: 15.8%\n"
          ]
        }
      ],
      "source": [
        "control_converted = control['converted'].sum()\n",
        "treatment_converted = treatment['converted'].sum()\n",
        "control_non_converted = control['converted'].count() - control_converted\n",
        "treatment_non_converted = treatment['converted'].count() - treatment_converted\n",
        "\n",
        "# Update Prior parameters with experiment conversion rates\n",
        "posterior_control = beta(prior_alpha + control_converted, prior_beta + control_non_converted)\n",
        "posterior_treatment = beta(prior_alpha + treatment_converted, prior_beta + treatment_non_converted)\n",
        "\n",
        "# Sample from Posteriors\n",
        "control_samples = posterior_control.rvs(1000)\n",
        "treatment_samples = posterior_treatment.rvs(1000)\n",
        "probability = np.mean(treatment_samples > control_samples)\n",
        "print(f\"Probability that treatment > control: {probability * 100}%\")"
      ]
    },
    {
      "cell_type": "code",
      "execution_count": null,
      "metadata": {
        "id": "chW2sBweeD0g",
        "outputId": "8c81d9b9-e810-4d45-ad1e-548bbe7f6bae"
      },
      "outputs": [
        {
          "name": "stdout",
          "output_type": "stream",
          "text": [
            "Control Posterior: Mean: 0.12056303255497915, Variance: 1.0333316272670703e-06\n",
            "Treatment Posterior: Mean: 0.1190944894489385, Variance: 1.0242362170011709e-06\n"
          ]
        }
      ],
      "source": [
        "(control_mu), (control_var) = posterior_control.stats()\n",
        "(treatment_mu), (treatment_var) = posterior_treatment.stats()\n",
        "print(f\"Control Posterior: Mean: {control_mu}, Variance: {control_var}\")\n",
        "print(f\"Treatment Posterior: Mean: {treatment_mu}, Variance: {treatment_var}\")"
      ]
    },
    {
      "cell_type": "markdown",
      "metadata": {
        "id": "Achr9yePeD0l"
      },
      "source": [
        "We can even make statements like the following which are actionable:"
      ]
    },
    {
      "cell_type": "code",
      "execution_count": null,
      "metadata": {
        "id": "Uk78y991eD0m",
        "outputId": "b015f0b8-9b65-4d98-869b-a3ea48467ea9"
      },
      "outputs": [
        {
          "name": "stdout",
          "output_type": "stream",
          "text": [
            "Probability that we are seeing a 2% lift: 0.4%\n"
          ]
        }
      ],
      "source": [
        "lift_percentage = (treatment_samples - control_samples) / control_samples\n",
        "print(f\"Probability that we are seeing a 2% lift: {np.mean((100 * lift_percentage) > 2) * 100}%\")"
      ]
    },
    {
      "cell_type": "markdown",
      "metadata": {
        "id": "uDgz9jepeD0m"
      },
      "source": [
        "Advantages of Bayesian over Frequentist:\n",
        "- Results are more interpretable than the ones we got from the frequentist approach\n",
        "- We can interpret results at any point during the experiment. Don't need to wait for an arbitrary \"statsig\""
      ]
    },
    {
      "cell_type": "markdown",
      "metadata": {
        "id": "ZTrwre-eeD0m"
      },
      "source": [
        "### References\n",
        " http://varianceexplained.org/statistics/beta_distribution_and_baseball/"
      ]
    }
  ],
  "metadata": {
    "kernelspec": {
      "display_name": "Python 3",
      "language": "python",
      "name": "python3"
    },
    "language_info": {
      "codemirror_mode": {
        "name": "ipython",
        "version": 3
      },
      "file_extension": ".py",
      "mimetype": "text/x-python",
      "name": "python",
      "nbconvert_exporter": "python",
      "pygments_lexer": "ipython3",
      "version": "3.7.4"
    },
    "colab": {
      "provenance": []
    }
  },
  "nbformat": 4,
  "nbformat_minor": 0
}